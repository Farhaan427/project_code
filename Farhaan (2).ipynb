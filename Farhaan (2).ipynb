{
 "cells": [
  {
   "cell_type": "code",
   "execution_count": 1,
   "id": "a26012ea-7f2c-4823-b9ed-fd1598d862d1",
   "metadata": {},
   "outputs": [
    {
     "data": {
      "text/plain": [
       "[2, 4, 3, 6]"
      ]
     },
     "execution_count": 1,
     "metadata": {},
     "output_type": "execute_result"
    }
   ],
   "source": [
    "a=[2,4,3,6]\n",
    "a"
   ]
  },
  {
   "cell_type": "code",
   "execution_count": 3,
   "id": "61786a22-cdce-48ab-a517-16bc38358398",
   "metadata": {},
   "outputs": [
    {
     "data": {
      "text/plain": [
       "list"
      ]
     },
     "execution_count": 3,
     "metadata": {},
     "output_type": "execute_result"
    }
   ],
   "source": [
    "type(a)"
   ]
  },
  {
   "cell_type": "code",
   "execution_count": 5,
   "id": "eb340571-c4ad-4758-a633-d732ee84c584",
   "metadata": {},
   "outputs": [
    {
     "data": {
      "text/plain": [
       "[427, 'Hyderabad', 33, False, True, 45, 17, 77, 18]"
      ]
     },
     "execution_count": 5,
     "metadata": {},
     "output_type": "execute_result"
    }
   ],
   "source": [
    "a=[427, 'Hyderabad', 33, False, True, 45, 17, 77, 18]\n",
    "a"
   ]
  },
  {
   "cell_type": "code",
   "execution_count": 11,
   "id": "6d468e2e-23b2-4e07-bacf-6314f82b46f5",
   "metadata": {},
   "outputs": [
    {
     "data": {
      "text/plain": [
       "'Hyderabad'"
      ]
     },
     "execution_count": 11,
     "metadata": {},
     "output_type": "execute_result"
    }
   ],
   "source": [
    "a[1]"
   ]
  },
  {
   "cell_type": "code",
   "execution_count": 13,
   "id": "d3bca0ef-0def-472a-ab6a-8743f444ca59",
   "metadata": {},
   "outputs": [
    {
     "data": {
      "text/plain": [
       "33"
      ]
     },
     "execution_count": 13,
     "metadata": {},
     "output_type": "execute_result"
    }
   ],
   "source": [
    "a[2]"
   ]
  },
  {
   "cell_type": "code",
   "execution_count": 15,
   "id": "a554562f-8cf1-4fc4-ad6a-f0147e785cec",
   "metadata": {},
   "outputs": [
    {
     "data": {
      "text/plain": [
       "['Hyderabad', 33, False, True, 45]"
      ]
     },
     "execution_count": 15,
     "metadata": {},
     "output_type": "execute_result"
    }
   ],
   "source": [
    "a[1:6]"
   ]
  },
  {
   "cell_type": "code",
   "execution_count": 17,
   "id": "4268eb79-3f1d-4fe4-b647-08cc07db46a5",
   "metadata": {},
   "outputs": [
    {
     "data": {
      "text/plain": [
       "[427, 'Hyderabad', 33, False, True, 45, 17, 77]"
      ]
     },
     "execution_count": 17,
     "metadata": {},
     "output_type": "execute_result"
    }
   ],
   "source": [
    "a[0:8]"
   ]
  },
  {
   "cell_type": "code",
   "execution_count": 23,
   "id": "b5825872-c9f9-4f1a-a9e2-2b7ee73690a0",
   "metadata": {},
   "outputs": [
    {
     "data": {
      "text/plain": [
       "[18, 45]"
      ]
     },
     "execution_count": 23,
     "metadata": {},
     "output_type": "execute_result"
    }
   ],
   "source": [
    "a[-1:-5:-3]"
   ]
  },
  {
   "cell_type": "code",
   "execution_count": 29,
   "id": "1f0a7531-26f4-4811-b3b8-d75f6251f29d",
   "metadata": {},
   "outputs": [
    {
     "data": {
      "text/plain": [
       "[18]"
      ]
     },
     "execution_count": 29,
     "metadata": {},
     "output_type": "execute_result"
    }
   ],
   "source": [
    "a[-1:5:-3]"
   ]
  },
  {
   "cell_type": "code",
   "execution_count": 17,
   "id": "0be69c45-227c-4ab6-919b-77c1dce01611",
   "metadata": {},
   "outputs": [],
   "source": [
    "a=[427, 'Hyderabad', 33, False, True, 45, 17, 77, 18]"
   ]
  },
  {
   "cell_type": "code",
   "execution_count": 19,
   "id": "0792edb9-b30a-4c3a-a430-419941802f08",
   "metadata": {},
   "outputs": [
    {
     "data": {
      "text/plain": [
       "['Hyderabad']"
      ]
     },
     "execution_count": 19,
     "metadata": {},
     "output_type": "execute_result"
    }
   ],
   "source": [
    "a[1:2:8]"
   ]
  },
  {
   "cell_type": "code",
   "execution_count": 25,
   "id": "2487a802-cd50-461e-bd8f-52620f8c582d",
   "metadata": {},
   "outputs": [],
   "source": [
    "a.append('trade')"
   ]
  },
  {
   "cell_type": "code",
   "execution_count": 29,
   "id": "d1e542dd-81be-4e49-88c6-5f7d9bcdf49c",
   "metadata": {},
   "outputs": [
    {
     "data": {
      "text/plain": [
       "[427, 'Hyderabad', 33, False, True, 45, 17, 77, 18, 44, 44, 'trade', 'trade']"
      ]
     },
     "execution_count": 29,
     "metadata": {},
     "output_type": "execute_result"
    }
   ],
   "source": [
    "a"
   ]
  },
  {
   "cell_type": "code",
   "execution_count": 33,
   "id": "f8d5f44e-7d2f-4f15-a280-0ecc569fde6d",
   "metadata": {},
   "outputs": [],
   "source": [
    "a.remove('trade')"
   ]
  },
  {
   "cell_type": "code",
   "execution_count": 35,
   "id": "a39d69fa-bc5f-41b7-bdec-df61548824a6",
   "metadata": {},
   "outputs": [
    {
     "data": {
      "text/plain": [
       "[427, 'Hyderabad', 33, False, True, 45, 17, 77, 18, 44, 44, 'trade']"
      ]
     },
     "execution_count": 35,
     "metadata": {},
     "output_type": "execute_result"
    }
   ],
   "source": [
    "a"
   ]
  },
  {
   "cell_type": "code",
   "execution_count": 3,
   "id": "6065f7a1-2d0d-462e-abcb-8d47f408406a",
   "metadata": {},
   "outputs": [],
   "source": [
    "a=[427, 'Hyderabad', 33, False, True, 45, 17, 77, 18]"
   ]
  },
  {
   "cell_type": "code",
   "execution_count": 5,
   "id": "8c76df14-b8e4-4370-bd81-47864365f672",
   "metadata": {},
   "outputs": [
    {
     "data": {
      "text/plain": [
       "[427, 'Hyderabad', 33, False, True, 45, 17, 77, 18]"
      ]
     },
     "execution_count": 5,
     "metadata": {},
     "output_type": "execute_result"
    }
   ],
   "source": [
    "a"
   ]
  },
  {
   "cell_type": "code",
   "execution_count": 11,
   "id": "221c16bb-8225-43d5-a238-16ece9845042",
   "metadata": {},
   "outputs": [
    {
     "data": {
      "text/plain": [
       "[427, 'Hyderabad', 33, False, True, 45, 17, 18]"
      ]
     },
     "execution_count": 11,
     "metadata": {},
     "output_type": "execute_result"
    }
   ],
   "source": [
    "a"
   ]
  },
  {
   "cell_type": "code",
   "execution_count": 13,
   "id": "a6a31155-55ad-4929-b0c7-14700c349e24",
   "metadata": {},
   "outputs": [],
   "source": [
    "a=[1,4,6,7]"
   ]
  },
  {
   "cell_type": "code",
   "execution_count": 15,
   "id": "25b5d2a9-a59e-44dd-9397-58c93fd8e958",
   "metadata": {},
   "outputs": [
    {
     "data": {
      "text/plain": [
       "[1, 4, 6, 7]"
      ]
     },
     "execution_count": 15,
     "metadata": {},
     "output_type": "execute_result"
    }
   ],
   "source": [
    "a"
   ]
  },
  {
   "cell_type": "code",
   "execution_count": 17,
   "id": "0a8d434f-e31e-4d32-b9d7-7fa9172c8513",
   "metadata": {},
   "outputs": [],
   "source": [
    "d=[2,3,5]"
   ]
  },
  {
   "cell_type": "code",
   "execution_count": 19,
   "id": "b5d05fbe-a0b0-4278-a46c-134e34431742",
   "metadata": {},
   "outputs": [
    {
     "data": {
      "text/plain": [
       "[1, 4, 6, 7, 2, 3, 5]"
      ]
     },
     "execution_count": 19,
     "metadata": {},
     "output_type": "execute_result"
    }
   ],
   "source": [
    "a+d"
   ]
  },
  {
   "cell_type": "code",
   "execution_count": null,
   "id": "219e1e6f-38c9-43ee-9fde-699e26d9b8b1",
   "metadata": {},
   "outputs": [],
   "source": []
  }
 ],
 "metadata": {
  "kernelspec": {
   "display_name": "Python [conda env:base] *",
   "language": "python",
   "name": "conda-base-py"
  },
  "language_info": {
   "codemirror_mode": {
    "name": "ipython",
    "version": 3
   },
   "file_extension": ".py",
   "mimetype": "text/x-python",
   "name": "python",
   "nbconvert_exporter": "python",
   "pygments_lexer": "ipython3",
   "version": "3.12.7"
  }
 },
 "nbformat": 4,
 "nbformat_minor": 5
}
